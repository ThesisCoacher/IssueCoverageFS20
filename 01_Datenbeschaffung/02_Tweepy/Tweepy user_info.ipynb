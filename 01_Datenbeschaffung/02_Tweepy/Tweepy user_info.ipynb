{
 "cells": [
  {
   "cell_type": "code",
   "execution_count": 1,
   "metadata": {},
   "outputs": [],
   "source": [
    "# Importieren der benoetigten Bibliotheken \n",
    "import tweepy \n",
    "import pandas as pd"
   ]
  },
  {
   "cell_type": "code",
   "execution_count": 2,
   "metadata": {},
   "outputs": [],
   "source": [
    "# Verification mittels individueller Access und Consumer Toekns/Secrets\n",
    "ACCESS_TOKEN = \"1069878781110902784-H18JN2alNMGD0Uv8BFsTB1o1lEwDpS\"\n",
    "ACCESS_SECRET = \"L21jL23ogr0qVuqJ2p8Gcjg32T3TRCMlXUWsx9x8EBHmc\"\n",
    "CONSUMER_KEY = \"jNoyds3dIvolZmuwvKLl0lRI0\"\n",
    "CONSUMER_SECRET = \"VZ7EawnfdNdWNx55h8qieiesjoOLBaQxE1lXs8qmFWVL0aiXJJ\""
   ]
  },
  {
   "cell_type": "code",
   "execution_count": 3,
   "metadata": {},
   "outputs": [],
   "source": [
    "# Setup access to API\n",
    "def connect_to_twitter_OAuth():\n",
    "    auth = tweepy.OAuthHandler(CONSUMER_KEY, CONSUMER_SECRET)\n",
    "    auth.set_access_token(ACCESS_TOKEN, ACCESS_SECRET)\n",
    "    api = tweepy.API(auth)\n",
    "    return api"
   ]
  },
  {
   "cell_type": "code",
   "execution_count": 4,
   "metadata": {},
   "outputs": [],
   "source": [
    "api = connect_to_twitter_OAuth()"
   ]
  },
  {
   "cell_type": "code",
   "execution_count": 7,
   "metadata": {},
   "outputs": [],
   "source": [
    "# Timeline von einem User ziehen \n",
    "user = api.get_user('HSGStGallen')"
   ]
  },
  {
   "cell_type": "code",
   "execution_count": 8,
   "metadata": {},
   "outputs": [
    {
     "name": "stdout",
     "output_type": "stream",
     "text": [
      "HSGStGallen\n",
      "9022\n",
      "DudenhofferAUTO\n",
      "PhilThal\n",
      "LeadersEquality\n",
      "julia_nentwich\n",
      "OPSY_HSG\n",
      "andreiciortea\n",
      "unige_en\n",
      "CNNMoneyCH\n",
      "MC_Knaus\n",
      "SBFI_CH\n",
      "PVuichard\n",
      "swissinfo_de\n",
      "Assoc_of_MBAs\n",
      "AACSB\n",
      "EFMDNews\n",
      "embahsg\n",
      "Foresense_UniSG\n",
      "DyllickThomas\n",
      "si_unisg\n",
      "FeffaGre\n"
     ]
    }
   ],
   "source": [
    "# Ausgabe von Username, Anzahl follower und befreunde Accounts\n",
    "print(user.screen_name)\n",
    "print(user.followers_count)\n",
    "for friend in user.friends():\n",
    "    print(friend.screen_name)"
   ]
  }
 ],
 "metadata": {
  "kernelspec": {
   "display_name": "Python 3",
   "language": "python",
   "name": "python3"
  },
  "language_info": {
   "codemirror_mode": {
    "name": "ipython",
    "version": 3
   },
   "file_extension": ".py",
   "mimetype": "text/x-python",
   "name": "python",
   "nbconvert_exporter": "python",
   "pygments_lexer": "ipython3",
   "version": "3.7.3"
  }
 },
 "nbformat": 4,
 "nbformat_minor": 2
}
